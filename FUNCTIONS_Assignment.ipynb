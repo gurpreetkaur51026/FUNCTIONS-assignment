{
  "nbformat": 4,
  "nbformat_minor": 0,
  "metadata": {
    "colab": {
      "provenance": []
    },
    "kernelspec": {
      "name": "python3",
      "display_name": "Python 3"
    },
    "language_info": {
      "name": "python"
    }
  },
  "cells": [
    {
      "cell_type": "markdown",
      "source": [
        "# **FUNCTIONS THEORY QUESTIONS ANSWERS**"
      ],
      "metadata": {
        "id": "aWJJ4bcRVuz7"
      }
    },
    {
      "cell_type": "markdown",
      "source": [
        "1. **What is the difference between a function and a method in Python ?**\n",
        "- In Python, a function is a block of code that does some task and can be called by its name. It’s usually written using the def keyword, and it works on the data we pass into it. For example, a function can add two numbers or print a message.\n",
        "\n",
        "- A method is almost the same as a function, but the difference is that a method is always tied to an object. That means we call it using the object’s name. Methods usually work on the data that belongs to that object. For example, when we use \"hello\".upper(), upper() is a method that works on the string object \"hello\".\n"
      ],
      "metadata": {
        "id": "E7Jg9AMxWG6z"
      }
    },
    {
      "cell_type": "markdown",
      "source": [
        "2. **Explain the concept of function arguments and parameters in Python.**\n",
        "- In Python, parameters are the names we write inside the function definition to receive values. They act like placeholders. For example in the following example, name is a parameter."
      ],
      "metadata": {
        "id": "oLpnXSI2WuJC"
      }
    },
    {
      "cell_type": "code",
      "source": [
        "def greet(name):\n",
        "    print(\"Hello\", name)"
      ],
      "metadata": {
        "id": "vdVTtb5ZmwFR"
      },
      "execution_count": null,
      "outputs": []
    },
    {
      "cell_type": "markdown",
      "source": [
        "Arguments are the actual values we give when we call the function. For example"
      ],
      "metadata": {
        "id": "TZIPq5I2m4dt"
      }
    },
    {
      "cell_type": "code",
      "source": [
        "greet(\"Gurpreet\")\n"
      ],
      "metadata": {
        "colab": {
          "base_uri": "https://localhost:8080/"
        },
        "id": "Kc8IyI20nIIy",
        "outputId": "65d62fb1-2c65-4ce5-d1df-ca4317eb71b8"
      },
      "execution_count": null,
      "outputs": [
        {
          "output_type": "stream",
          "name": "stdout",
          "text": [
            "Hello Gurpreet\n"
          ]
        }
      ]
    },
    {
      "cell_type": "markdown",
      "source": [
        "Here, \"Gurpreet\" is the argument.\n",
        "\n",
        "So basically, parameters are variables in the function definition, and arguments are the real values we pass when calling the function."
      ],
      "metadata": {
        "id": "Tt_Dr3WVnR6k"
      }
    },
    {
      "cell_type": "markdown",
      "source": [
        "3. **What are the different ways to define and call a function in Python ?**\n",
        "- In Python, we can define and call functions in different ways:\n",
        "\n",
        "1. Simple function (no parameters)"
      ],
      "metadata": {
        "id": "a5x4NDLtnYfm"
      }
    },
    {
      "cell_type": "code",
      "source": [
        "def say_hello():\n",
        "    print(\"Hello!\")\n",
        "\n",
        "say_hello()\n"
      ],
      "metadata": {
        "colab": {
          "base_uri": "https://localhost:8080/"
        },
        "id": "nFFV7wJGoVQV",
        "outputId": "53324f9a-74b7-4ba5-8ca2-ec890ae69e35"
      },
      "execution_count": null,
      "outputs": [
        {
          "output_type": "stream",
          "name": "stdout",
          "text": [
            "Hello!\n"
          ]
        }
      ]
    },
    {
      "cell_type": "markdown",
      "source": [
        "2. Function with parameters"
      ],
      "metadata": {
        "id": "pSJ9iZBoobwt"
      }
    },
    {
      "cell_type": "code",
      "source": [
        "def add(a, b):\n",
        "    return a + b\n",
        "\n",
        "print(add(5, 3))"
      ],
      "metadata": {
        "colab": {
          "base_uri": "https://localhost:8080/"
        },
        "id": "caEN6qrnooYF",
        "outputId": "1e79813b-a4b2-49dd-dc6f-41eda35819a2"
      },
      "execution_count": null,
      "outputs": [
        {
          "output_type": "stream",
          "name": "stdout",
          "text": [
            "8\n"
          ]
        }
      ]
    },
    {
      "cell_type": "markdown",
      "source": [
        "3. Function with default parameter"
      ],
      "metadata": {
        "id": "69W7hd-4os-O"
      }
    },
    {
      "cell_type": "code",
      "source": [
        "def greet(name=\"Guest\"):\n",
        "    print(\"Hello\", name)\n",
        "\n",
        "greet()\n",
        "greet(\"Gurpreet\")"
      ],
      "metadata": {
        "colab": {
          "base_uri": "https://localhost:8080/"
        },
        "id": "TzO7It_Yowu9",
        "outputId": "0b3e45e8-ab65-41ee-e10a-71b60451bf10"
      },
      "execution_count": null,
      "outputs": [
        {
          "output_type": "stream",
          "name": "stdout",
          "text": [
            "Hello Guest\n",
            "Hello Ravi\n"
          ]
        }
      ]
    },
    {
      "cell_type": "markdown",
      "source": [
        "4. Function with keyword arguments"
      ],
      "metadata": {
        "id": "clH-cScvo6Sr"
      }
    },
    {
      "cell_type": "code",
      "source": [
        "def student(name, age):\n",
        "    print(name, \"is\", age, \"years old\")\n",
        "\n",
        "student(age=27, name=\"Gurpreet\")\n"
      ],
      "metadata": {
        "colab": {
          "base_uri": "https://localhost:8080/"
        },
        "id": "z7c2fqoVpDJ4",
        "outputId": "db3e808f-eb70-4701-a0f7-df5009f2e32d"
      },
      "execution_count": null,
      "outputs": [
        {
          "output_type": "stream",
          "name": "stdout",
          "text": [
            "Gurpreet is 27 years old\n"
          ]
        }
      ]
    },
    {
      "cell_type": "markdown",
      "source": [
        "5. Function with variable number of arguments"
      ],
      "metadata": {
        "id": "IgYZ2XyxpWt_"
      }
    },
    {
      "cell_type": "code",
      "source": [
        "def show_numbers(*nums):\n",
        "    for n in nums:\n",
        "        print(n)\n",
        "\n",
        "show_numbers(1, 2, 3, 4)\n"
      ],
      "metadata": {
        "colab": {
          "base_uri": "https://localhost:8080/"
        },
        "id": "xY872wUUpZbh",
        "outputId": "8f990213-ec6d-4a69-88fa-d08351d90579"
      },
      "execution_count": null,
      "outputs": [
        {
          "output_type": "stream",
          "name": "stdout",
          "text": [
            "1\n",
            "2\n",
            "3\n",
            "4\n"
          ]
        }
      ]
    },
    {
      "cell_type": "markdown",
      "source": [
        "So basically, we can define functions with or without parameters, with default values, keyword arguments, or even multiple arguments using *args and **kwargs."
      ],
      "metadata": {
        "id": "Ma-GcqOupeFT"
      }
    },
    {
      "cell_type": "markdown",
      "source": [
        "4. **What is the purpose of the `return` statement in a Python function ?**\n",
        "- The return statement in Python is used to send a value back from a function to the place where it was called. Without return, a function just runs its code but doesn’t give anything back.\n",
        "\n",
        "For example:"
      ],
      "metadata": {
        "id": "N5Qm0RZ_piZe"
      }
    },
    {
      "cell_type": "code",
      "source": [
        "def add(a, b):\n",
        "    return a + b\n",
        "\n",
        "result = add(5, 3)\n",
        "print(result)   # prints 8"
      ],
      "metadata": {
        "colab": {
          "base_uri": "https://localhost:8080/"
        },
        "id": "crdMf-BmqVTt",
        "outputId": "32a1c453-ef41-4d64-e9e1-014f337abb39"
      },
      "execution_count": null,
      "outputs": [
        {
          "output_type": "stream",
          "name": "stdout",
          "text": [
            "8\n"
          ]
        }
      ]
    },
    {
      "cell_type": "markdown",
      "source": [
        "Here, the return sends the sum back, and we can store it in result.\n",
        "\n",
        "So, the purpose of return is to make the function give an output that can be used later in the program."
      ],
      "metadata": {
        "id": "1-Ydj11pqZ7K"
      }
    },
    {
      "cell_type": "markdown",
      "source": [
        "5.  **What are iterators in Python and how do they differ from iterables ?**\n",
        "- In Python, an iterable is any object that we can loop over, like lists, tuples, strings, or sets. Basically, if we can use a for loop on it, it’s an iterable.\n",
        "\n",
        "- An iterator is an object that gives us one element at a time from an iterable. We get an iterator by using the iter() function, and then we can use next() to move through the elements.\n",
        "\n",
        "Example:"
      ],
      "metadata": {
        "id": "Rnikq8mmqexu"
      }
    },
    {
      "cell_type": "code",
      "source": [
        "nums = [1, 2, 3]     # iterable\n",
        "it = iter(nums)      # iterator\n",
        "\n",
        "print(next(it))  # 1\n",
        "print(next(it))  # 2\n",
        "print(next(it))  # 3\n"
      ],
      "metadata": {
        "colab": {
          "base_uri": "https://localhost:8080/"
        },
        "id": "pja-0bwwrF6w",
        "outputId": "8ee557ae-3ec6-41f5-d80b-fd2929f8dea0"
      },
      "execution_count": null,
      "outputs": [
        {
          "output_type": "stream",
          "name": "stdout",
          "text": [
            "1\n",
            "2\n",
            "3\n"
          ]
        }
      ]
    },
    {
      "cell_type": "markdown",
      "source": [
        "6.  **Explain the concept of generators in Python and how they are defined.**\n",
        "- In Python, generators are a special type of function that let us create an iterator in an easy way. Instead of returning all the values at once, a generator gives one value at a time when we loop through it.\n",
        "\n",
        "Generators are defined just like normal functions, but instead of using return, we use the yield keyword. Each time the function hits yield, it pauses and remembers its state, then continues from there the next time it’s called.\n",
        "\n",
        "Example:"
      ],
      "metadata": {
        "id": "cr67_dSgrLTd"
      }
    },
    {
      "cell_type": "code",
      "source": [
        "def count_up_to(n):\n",
        "    num = 1\n",
        "    while num <= n:\n",
        "        yield num\n",
        "        num += 1\n",
        "\n",
        "for i in count_up_to(5):\n",
        "    print(i)"
      ],
      "metadata": {
        "colab": {
          "base_uri": "https://localhost:8080/"
        },
        "id": "T43i_4B7sfb0",
        "outputId": "6bfa51d9-fcbe-4c59-cd44-73398a7aa9c0"
      },
      "execution_count": null,
      "outputs": [
        {
          "output_type": "stream",
          "name": "stdout",
          "text": [
            "1\n",
            "2\n",
            "3\n",
            "4\n",
            "5\n"
          ]
        }
      ]
    },
    {
      "cell_type": "markdown",
      "source": [
        "This will print numbers 1 to 5, but the values are produced one by one instead of all at once.\n",
        "\n",
        "So basically, generators help us save memory and make looping over large sequences more efficient."
      ],
      "metadata": {
        "id": "x3UtT70Msl9D"
      }
    },
    {
      "cell_type": "markdown",
      "source": [
        "**7. What are the advantages of using generators over regular functions?**\n",
        "\n",
        "- The main advantage of using generators is that they don’t give back all the data at once. Instead, they produce values one by one whenever needed. This makes them really useful when dealing with large amounts of data.\n",
        "\n",
        "Advantages of generators over normal functions:\n",
        "\n",
        "- __Memory efficient__ → They don’t store the whole list in memory. They generate items on the fly.\n",
        "\n",
        "- __Faster for big data__ → Since they give values one at a time, they don’t slow down the program by creating large structures.\n",
        "\n",
        "- __Simple code__ → Writing a generator with yield is easier than writing a class with __iter__ and __next__.\n",
        "\n",
        "- __Infinite sequences possible__ → Generators can produce endless values without running out of memory"
      ],
      "metadata": {
        "id": "uuQxvJ7CsuQy"
      }
    },
    {
      "cell_type": "markdown",
      "source": [
        "**8. What is a lambda function in Python and when is it typically used ?**\n",
        " - In Python, a lambda function is a small anonymous function, meaning it doesn’t have a name. It is written using the keyword lambda instead of def."
      ],
      "metadata": {
        "id": "WvHSFnKFwnAc"
      }
    },
    {
      "cell_type": "code",
      "source": [
        "square = lambda x: x*x\n",
        "print(square(5))   # 25\n"
      ],
      "metadata": {
        "colab": {
          "base_uri": "https://localhost:8080/"
        },
        "id": "XnlVwt7ew8KK",
        "outputId": "c15796b3-e5a7-4322-aece-b032148b9361"
      },
      "execution_count": null,
      "outputs": [
        {
          "output_type": "stream",
          "name": "stdout",
          "text": [
            "25\n"
          ]
        }
      ]
    },
    {
      "cell_type": "markdown",
      "source": [
        "Lambda functions are usually used when we need a quick, one-line function that we don’t want to define separately.\n",
        "\n",
        "**Typical uses:**\n",
        "\n",
        "With functions like map(), filter(), and sorted()\n",
        "\n",
        "When we need a short function for a small task instead of writing a full def function"
      ],
      "metadata": {
        "id": "jdKfG5SzxAs7"
      }
    },
    {
      "cell_type": "markdown",
      "source": [
        "**9.  Explain the purpose and usage of the `map()` function in Python.**\n",
        "- The map() function in Python is used to apply a function to every item in an iterable (like a list, tuple, etc.) and get a new iterable with the results.\n",
        "\n",
        "Example:"
      ],
      "metadata": {
        "id": "ZeUrlwi3xLLj"
      }
    },
    {
      "cell_type": "code",
      "source": [
        "numbers = [1, 2, 3, 4]\n",
        "squared = map(lambda x: x**2, numbers)\n",
        "print(list(squared))"
      ],
      "metadata": {
        "colab": {
          "base_uri": "https://localhost:8080/"
        },
        "id": "_h1EapuMx2lp",
        "outputId": "05d4e006-77fe-4460-cb41-7a5da39cbe3e"
      },
      "execution_count": null,
      "outputs": [
        {
          "output_type": "stream",
          "name": "stdout",
          "text": [
            "[1, 4, 9, 16]\n"
          ]
        }
      ]
    },
    {
      "cell_type": "markdown",
      "source": [
        "Here, the lambda function squares each number, and map() applies it to all items in the list.\n",
        "\n",
        "Purpose:\n",
        "\n",
        "Saves time by applying a function to all elements at once.\n",
        "\n",
        "Makes the code shorter and cleaner compared to using a for loop."
      ],
      "metadata": {
        "id": "Ge5Z9xUzx7wR"
      }
    },
    {
      "cell_type": "markdown",
      "source": [
        "**10. What is the difference between `map()`, `reduce()`, and `filter()` functions in Python ?**\n",
        "- map()\n",
        "\n",
        "It's used when we want to apply the same function to every element in a list (or any collection).\n",
        "\n",
        "Basically, it transforms each item and gives back a new list of changed values.\n",
        "Example -"
      ],
      "metadata": {
        "id": "eodizHCZyC6B"
      }
    },
    {
      "cell_type": "code",
      "source": [
        "numbers = [1, 2, 3, 4]\n",
        "squares = list(map(lambda x: x**2, numbers))\n",
        "print(squares)"
      ],
      "metadata": {
        "colab": {
          "base_uri": "https://localhost:8080/"
        },
        "id": "luUmhbF3KNr4",
        "outputId": "de2d5ae7-4467-4ddc-ab47-52543cf70363"
      },
      "execution_count": 1,
      "outputs": [
        {
          "output_type": "stream",
          "name": "stdout",
          "text": [
            "[1, 4, 9, 16]\n"
          ]
        }
      ]
    },
    {
      "cell_type": "markdown",
      "source": [
        "- filter()\n",
        "\n",
        "This one is used when we want to pick out only some elements based on a condition.\n",
        "\n",
        "It checks each item, and if the condition is true, it keeps it, otherwise it skips it."
      ],
      "metadata": {
        "id": "RQ-pv-T9KWH-"
      }
    },
    {
      "cell_type": "code",
      "source": [
        "numbers = [1, 2, 3, 4, 5, 6]\n",
        "evens = list(filter(lambda x: x % 2 == 0, numbers))\n",
        "print(evens)"
      ],
      "metadata": {
        "colab": {
          "base_uri": "https://localhost:8080/"
        },
        "id": "qgynlvksNCfx",
        "outputId": "3be2b027-2302-4d9c-ed4d-fb69f91c111b"
      },
      "execution_count": 2,
      "outputs": [
        {
          "output_type": "stream",
          "name": "stdout",
          "text": [
            "[2, 4, 6]\n"
          ]
        }
      ]
    },
    {
      "cell_type": "markdown",
      "source": [
        "- reduce()\n",
        "\n",
        "This one is a bit different. Instead of giving back another list, it reduces everything into a single value.\n",
        "\n",
        "It keeps combining the elements together using the function we provide."
      ],
      "metadata": {
        "id": "x2Z5bjnWNHK4"
      }
    },
    {
      "cell_type": "code",
      "source": [
        "from functools import reduce\n",
        "\n",
        "numbers = [1, 2, 3, 4]\n",
        "product = reduce(lambda x, y: x * y, numbers)\n",
        "print(product)"
      ],
      "metadata": {
        "colab": {
          "base_uri": "https://localhost:8080/"
        },
        "id": "kpNbyHqGNMRT",
        "outputId": "d62230f7-6f66-424f-cb46-f96fda440408"
      },
      "execution_count": 3,
      "outputs": [
        {
          "output_type": "stream",
          "name": "stdout",
          "text": [
            "24\n"
          ]
        }
      ]
    },
    {
      "cell_type": "markdown",
      "source": [
        "11. Using pen & Paper write the internal mechanism for sum operation using  reduce function on this given\n",
        "list:[47,11,42,13];![WhatsApp Image 2025-10-03 at 7.01.31 PM.jpeg](data:image/jpeg;base64,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)"
      ],
      "metadata": {
        "id": "PMDOYwpeNcIm"
      }
    },
    {
      "cell_type": "markdown",
      "source": [
        "# PRACTICAL QUESTIONS\n",
        "\n",
        "\n",
        "1. Write a Python function that takes a list of numbers as input and returns the sum of all even numbers in\n",
        "the list."
      ],
      "metadata": {
        "id": "EQ1KagLRRojQ"
      }
    },
    {
      "cell_type": "code",
      "source": [
        "def sum_of_even(numbers):\n",
        "    total = 0\n",
        "    for num in numbers:\n",
        "        if num % 2 == 0:\n",
        "            total += num\n",
        "    return total\n",
        "\n",
        "nums = [10, 15, 20, 25, 30]\n",
        "print(\"Sum of even numbers:\", sum_of_even(nums))\n"
      ],
      "metadata": {
        "colab": {
          "base_uri": "https://localhost:8080/"
        },
        "id": "giR2khmjR5_5",
        "outputId": "30b4f0e0-d64d-4c45-c678-0f3a16e988a0"
      },
      "execution_count": 4,
      "outputs": [
        {
          "output_type": "stream",
          "name": "stdout",
          "text": [
            "Sum of even numbers: 60\n"
          ]
        }
      ]
    },
    {
      "cell_type": "code",
      "source": [
        "# 2.  Create a Python function that accepts a string and returns the reverse of that string.\n",
        "def reverse_string(text):\n",
        "    return text[::-1]\n",
        "\n",
        "word = \"Python\"\n",
        "print(\"Reversed string:\", reverse_string(word))\n"
      ],
      "metadata": {
        "colab": {
          "base_uri": "https://localhost:8080/"
        },
        "id": "n112elhbSa7U",
        "outputId": "589a08fb-5916-45b1-99c7-293d3c125c67"
      },
      "execution_count": 5,
      "outputs": [
        {
          "output_type": "stream",
          "name": "stdout",
          "text": [
            "Reversed string: nohtyP\n"
          ]
        }
      ]
    },
    {
      "cell_type": "code",
      "source": [
        "# 3.  Implement a Python function that takes a list of integers and returns a new list containing the squares of each number.\n",
        "def square_list(numbers):\n",
        "    squared = []\n",
        "    for num in numbers:\n",
        "        squared.append(num ** 2)\n",
        "    return squared\n",
        "\n",
        "# Example usage\n",
        "nums = [2, 3, 4, 5]\n",
        "print(\"Squared list:\", square_list(nums))\n"
      ],
      "metadata": {
        "colab": {
          "base_uri": "https://localhost:8080/"
        },
        "id": "hQsNzpA7S-yT",
        "outputId": "9560ba8e-1371-4359-e8af-781569f175e2"
      },
      "execution_count": 6,
      "outputs": [
        {
          "output_type": "stream",
          "name": "stdout",
          "text": [
            "Squared list: [4, 9, 16, 25]\n"
          ]
        }
      ]
    },
    {
      "cell_type": "code",
      "source": [
        "# 4. Write a Python function that checks if a given number is prime or not from 1 to 200.\n",
        "def is_prime(num):\n",
        "    if num < 2:\n",
        "        return False\n",
        "    for i in range(2, int(num**0.5) + 1):\n",
        "        if num % i == 0:\n",
        "            return False\n",
        "    return True\n",
        "\n",
        "for n in range(1, 201):\n",
        "    if is_prime(n):\n",
        "        print(n, \"is Prime\")\n",
        "    else:\n",
        "        print(n, \"is Not Prime\")\n"
      ],
      "metadata": {
        "colab": {
          "base_uri": "https://localhost:8080/"
        },
        "id": "lwbSf0FATZVJ",
        "outputId": "fee3f8cb-ef95-4149-9804-53519b0909b2"
      },
      "execution_count": 7,
      "outputs": [
        {
          "output_type": "stream",
          "name": "stdout",
          "text": [
            "1 is Not Prime\n",
            "2 is Prime\n",
            "3 is Prime\n",
            "4 is Not Prime\n",
            "5 is Prime\n",
            "6 is Not Prime\n",
            "7 is Prime\n",
            "8 is Not Prime\n",
            "9 is Not Prime\n",
            "10 is Not Prime\n",
            "11 is Prime\n",
            "12 is Not Prime\n",
            "13 is Prime\n",
            "14 is Not Prime\n",
            "15 is Not Prime\n",
            "16 is Not Prime\n",
            "17 is Prime\n",
            "18 is Not Prime\n",
            "19 is Prime\n",
            "20 is Not Prime\n",
            "21 is Not Prime\n",
            "22 is Not Prime\n",
            "23 is Prime\n",
            "24 is Not Prime\n",
            "25 is Not Prime\n",
            "26 is Not Prime\n",
            "27 is Not Prime\n",
            "28 is Not Prime\n",
            "29 is Prime\n",
            "30 is Not Prime\n",
            "31 is Prime\n",
            "32 is Not Prime\n",
            "33 is Not Prime\n",
            "34 is Not Prime\n",
            "35 is Not Prime\n",
            "36 is Not Prime\n",
            "37 is Prime\n",
            "38 is Not Prime\n",
            "39 is Not Prime\n",
            "40 is Not Prime\n",
            "41 is Prime\n",
            "42 is Not Prime\n",
            "43 is Prime\n",
            "44 is Not Prime\n",
            "45 is Not Prime\n",
            "46 is Not Prime\n",
            "47 is Prime\n",
            "48 is Not Prime\n",
            "49 is Not Prime\n",
            "50 is Not Prime\n",
            "51 is Not Prime\n",
            "52 is Not Prime\n",
            "53 is Prime\n",
            "54 is Not Prime\n",
            "55 is Not Prime\n",
            "56 is Not Prime\n",
            "57 is Not Prime\n",
            "58 is Not Prime\n",
            "59 is Prime\n",
            "60 is Not Prime\n",
            "61 is Prime\n",
            "62 is Not Prime\n",
            "63 is Not Prime\n",
            "64 is Not Prime\n",
            "65 is Not Prime\n",
            "66 is Not Prime\n",
            "67 is Prime\n",
            "68 is Not Prime\n",
            "69 is Not Prime\n",
            "70 is Not Prime\n",
            "71 is Prime\n",
            "72 is Not Prime\n",
            "73 is Prime\n",
            "74 is Not Prime\n",
            "75 is Not Prime\n",
            "76 is Not Prime\n",
            "77 is Not Prime\n",
            "78 is Not Prime\n",
            "79 is Prime\n",
            "80 is Not Prime\n",
            "81 is Not Prime\n",
            "82 is Not Prime\n",
            "83 is Prime\n",
            "84 is Not Prime\n",
            "85 is Not Prime\n",
            "86 is Not Prime\n",
            "87 is Not Prime\n",
            "88 is Not Prime\n",
            "89 is Prime\n",
            "90 is Not Prime\n",
            "91 is Not Prime\n",
            "92 is Not Prime\n",
            "93 is Not Prime\n",
            "94 is Not Prime\n",
            "95 is Not Prime\n",
            "96 is Not Prime\n",
            "97 is Prime\n",
            "98 is Not Prime\n",
            "99 is Not Prime\n",
            "100 is Not Prime\n",
            "101 is Prime\n",
            "102 is Not Prime\n",
            "103 is Prime\n",
            "104 is Not Prime\n",
            "105 is Not Prime\n",
            "106 is Not Prime\n",
            "107 is Prime\n",
            "108 is Not Prime\n",
            "109 is Prime\n",
            "110 is Not Prime\n",
            "111 is Not Prime\n",
            "112 is Not Prime\n",
            "113 is Prime\n",
            "114 is Not Prime\n",
            "115 is Not Prime\n",
            "116 is Not Prime\n",
            "117 is Not Prime\n",
            "118 is Not Prime\n",
            "119 is Not Prime\n",
            "120 is Not Prime\n",
            "121 is Not Prime\n",
            "122 is Not Prime\n",
            "123 is Not Prime\n",
            "124 is Not Prime\n",
            "125 is Not Prime\n",
            "126 is Not Prime\n",
            "127 is Prime\n",
            "128 is Not Prime\n",
            "129 is Not Prime\n",
            "130 is Not Prime\n",
            "131 is Prime\n",
            "132 is Not Prime\n",
            "133 is Not Prime\n",
            "134 is Not Prime\n",
            "135 is Not Prime\n",
            "136 is Not Prime\n",
            "137 is Prime\n",
            "138 is Not Prime\n",
            "139 is Prime\n",
            "140 is Not Prime\n",
            "141 is Not Prime\n",
            "142 is Not Prime\n",
            "143 is Not Prime\n",
            "144 is Not Prime\n",
            "145 is Not Prime\n",
            "146 is Not Prime\n",
            "147 is Not Prime\n",
            "148 is Not Prime\n",
            "149 is Prime\n",
            "150 is Not Prime\n",
            "151 is Prime\n",
            "152 is Not Prime\n",
            "153 is Not Prime\n",
            "154 is Not Prime\n",
            "155 is Not Prime\n",
            "156 is Not Prime\n",
            "157 is Prime\n",
            "158 is Not Prime\n",
            "159 is Not Prime\n",
            "160 is Not Prime\n",
            "161 is Not Prime\n",
            "162 is Not Prime\n",
            "163 is Prime\n",
            "164 is Not Prime\n",
            "165 is Not Prime\n",
            "166 is Not Prime\n",
            "167 is Prime\n",
            "168 is Not Prime\n",
            "169 is Not Prime\n",
            "170 is Not Prime\n",
            "171 is Not Prime\n",
            "172 is Not Prime\n",
            "173 is Prime\n",
            "174 is Not Prime\n",
            "175 is Not Prime\n",
            "176 is Not Prime\n",
            "177 is Not Prime\n",
            "178 is Not Prime\n",
            "179 is Prime\n",
            "180 is Not Prime\n",
            "181 is Prime\n",
            "182 is Not Prime\n",
            "183 is Not Prime\n",
            "184 is Not Prime\n",
            "185 is Not Prime\n",
            "186 is Not Prime\n",
            "187 is Not Prime\n",
            "188 is Not Prime\n",
            "189 is Not Prime\n",
            "190 is Not Prime\n",
            "191 is Prime\n",
            "192 is Not Prime\n",
            "193 is Prime\n",
            "194 is Not Prime\n",
            "195 is Not Prime\n",
            "196 is Not Prime\n",
            "197 is Prime\n",
            "198 is Not Prime\n",
            "199 is Prime\n",
            "200 is Not Prime\n"
          ]
        }
      ]
    },
    {
      "cell_type": "code",
      "source": [
        "# 5. Create an iterator class in Python that generates the Fibonacci sequence up to a specified number of terms.\n",
        "class FibonacciIterator:\n",
        "    def __init__(self, terms):\n",
        "        self.terms = terms\n",
        "        self.count = 0\n",
        "        self.a, self.b = 0, 1\n",
        "\n",
        "    def __iter__(self):\n",
        "        return self\n",
        "\n",
        "    def __next__(self):\n",
        "        if self.count < self.terms:\n",
        "            value = self.a\n",
        "            self.a, self.b = self.b, self.a + self.b\n",
        "            self.count += 1\n",
        "            return value\n",
        "        else:\n",
        "            raise StopIteration\n",
        "\n",
        "\n",
        "fib = FibonacciIterator(10)\n",
        "for num in fib:\n",
        "    print(num, end=\" \")"
      ],
      "metadata": {
        "colab": {
          "base_uri": "https://localhost:8080/"
        },
        "id": "2odQyqYCTunG",
        "outputId": "bb67c299-2cb0-4ce4-8538-fede56706f9f"
      },
      "execution_count": 8,
      "outputs": [
        {
          "output_type": "stream",
          "name": "stdout",
          "text": [
            "0 1 1 2 3 5 8 13 21 34 "
          ]
        }
      ]
    },
    {
      "cell_type": "code",
      "source": [
        "# 6.  Write a generator function in Python that yields the powers of 2 up to a given exponent.\n",
        "def powers_of_two(limit):\n",
        "    for i in range(limit + 1):\n",
        "        yield 2 ** i\n",
        "\n",
        "\n",
        "# Example usage\n",
        "for value in powers_of_two(5):\n",
        "    print(value)"
      ],
      "metadata": {
        "colab": {
          "base_uri": "https://localhost:8080/"
        },
        "id": "xByUGV2UUiyN",
        "outputId": "10d745b0-77fd-4463-dafd-f30f88d06e4c"
      },
      "execution_count": 9,
      "outputs": [
        {
          "output_type": "stream",
          "name": "stdout",
          "text": [
            "1\n",
            "2\n",
            "4\n",
            "8\n",
            "16\n",
            "32\n"
          ]
        }
      ]
    },
    {
      "cell_type": "code",
      "source": [
        "# 7.  Implement a generator function that reads a file line by line and yields each line as a string.\n",
        "def read_file_lines(filename):\n",
        "    with open(filename, 'r') as file:   # open the file in read mode\n",
        "        for line in file:\n",
        "            yield line.strip()   # remove newline characters and yield line\n",
        "\n",
        "# Example usage\n",
        "# Suppose we have a file \"sample.txt\"\n",
        "for line in read_file_lines(\"sample.txt\"):\n",
        "    print(line)\n"
      ],
      "metadata": {
        "id": "wg7pNMtWVkX4"
      },
      "execution_count": null,
      "outputs": []
    },
    {
      "cell_type": "code",
      "source": [
        "# 8. Use a lambda function in Python to sort a list of tuples based on the second element of each tuple.\n",
        "# Sample list of tuples\n",
        "data = [(1, 5), (3, 2), (4, 8), (2, 1)]\n",
        "\n",
        "# Sorting using lambda function based on the second element\n",
        "sorted_data = sorted(data, key=lambda x: x[1])\n",
        "\n",
        "print(sorted_data)\n"
      ],
      "metadata": {
        "colab": {
          "base_uri": "https://localhost:8080/"
        },
        "id": "hovZtkLxV4kd",
        "outputId": "33800d98-e08a-44f8-d2be-b7c70f8bb19a"
      },
      "execution_count": 11,
      "outputs": [
        {
          "output_type": "stream",
          "name": "stdout",
          "text": [
            "[(2, 1), (3, 2), (1, 5), (4, 8)]\n"
          ]
        }
      ]
    },
    {
      "cell_type": "code",
      "source": [
        "#9. Write a Python program that uses `map()` to convert a list of temperatures from Celsius to Fahrenheit.\n",
        "# List of temperatures in Celsius\n",
        "celsius = [0, 10, 20, 30, 37, 40]\n",
        "\n",
        "# Function to convert Celsius to Fahrenheit\n",
        "def c_to_f(temp):\n",
        "    return (temp * 9/5) + 32\n",
        "\n",
        "# Using map() to convert all temperatures\n",
        "fahrenheit = list(map(c_to_f, celsius))\n",
        "\n",
        "print(\"Temperatures in Fahrenheit:\", fahrenheit)\n"
      ],
      "metadata": {
        "colab": {
          "base_uri": "https://localhost:8080/"
        },
        "id": "FcTdrvdXWF1T",
        "outputId": "269bd773-d985-43a3-b67b-dac1a63532ae"
      },
      "execution_count": 12,
      "outputs": [
        {
          "output_type": "stream",
          "name": "stdout",
          "text": [
            "Temperatures in Fahrenheit: [32.0, 50.0, 68.0, 86.0, 98.6, 104.0]\n"
          ]
        }
      ]
    },
    {
      "cell_type": "code",
      "source": [
        "# 10. Create a Python program that uses `filter()` to remove all the vowels from a given string.\n",
        "# Function to check if a character is not a vowel\n",
        "def not_vowel(char):\n",
        "    return char.lower() not in 'aeiou'\n",
        "\n",
        "# Given string\n",
        "text = \"Hello, Python World!\"\n",
        "\n",
        "# Using filter() to remove vowels\n",
        "result = ''.join(filter(not_vowel, text))\n",
        "\n",
        "print(\"String without vowels:\", result)\n"
      ],
      "metadata": {
        "colab": {
          "base_uri": "https://localhost:8080/"
        },
        "id": "qsIjRKu-WRlW",
        "outputId": "c23e22d3-1e17-4176-b6bd-53b1715367e6"
      },
      "execution_count": 13,
      "outputs": [
        {
          "output_type": "stream",
          "name": "stdout",
          "text": [
            "String without vowels: Hll, Pythn Wrld!\n"
          ]
        }
      ]
    },
    {
      "cell_type": "code",
      "source": [
        "# 11. Write a Python program, which returns a list with 2-tuples. Each tuple consists of the order number and the product of the price per item and the quantity. The product should be increased by 10,- € if the value of the order is smaller than 100,00 €. Write a Python program using lambda and map.\n",
        "orders = [\n",
        "    [34587, 'Learning Python, Mark Lutz', 4, 40.95],\n",
        "    [98762, 'Programming Python, Mark Lutz', 5, 56.80],\n",
        "    [77226, 'Head First Python, Paul Barry', 3, 32.95],\n",
        "    [88112, 'Einführung in Python3, Bernd Klein', 3, 24.99]\n",
        "]\n",
        "#Step 2: Write a Python program using lambda and map\n",
        "#The problem asks for a program that uses lambda and map to process the list of orders. The program should return a list of 2-tuples, where each tuple contains the order number and the calculated total price. The total price is the product of quantity and price per item, with an additional €10 fee if the total is less than €100.\n",
        "result = list(map(lambda order: (order[0], order[2] * order[3] + 10) if order[2] * order[3] < 100 else (order[0], order[2] * order[3]), orders))\n",
        "orders = [\n",
        "    [34587, 'Learning Python, Mark Lutz', 4, 40.95],\n",
        "    [98762, 'Programming Python, Mark Lutz', 5, 56.80],\n",
        "    [77226, 'Head First Python, Paul Barry', 3, 32.95],\n",
        "    [88112, 'Einführung in Python3, Bernd Klein', 3, 24.99]\n",
        "]\n",
        "\n",
        "result = list(map(lambda order: (order[0], order[2] * order[3] + 10) if order[2] * order[3] < 100 else (order[0], order[2] * order[3]), orders))\n",
        "\n",
        "print(result)\n"
      ],
      "metadata": {
        "colab": {
          "base_uri": "https://localhost:8080/"
        },
        "id": "a8qS8eUyWcje",
        "outputId": "cf64f5f3-3f5d-4628-83cd-fbdeafa70afe"
      },
      "execution_count": 16,
      "outputs": [
        {
          "output_type": "stream",
          "name": "stdout",
          "text": [
            "[(34587, 163.8), (98762, 284.0), (77226, 108.85000000000001), (88112, 84.97)]\n"
          ]
        }
      ]
    }
  ]
}